{
 "cells": [
  {
   "cell_type": "code",
   "execution_count": null,
   "id": "7dc582f4",
   "metadata": {},
   "outputs": [],
   "source": [
    "pip install googletrans==3.1.0a0"
   ]
  },
  {
   "cell_type": "code",
   "execution_count": null,
   "id": "def1a2e0",
   "metadata": {},
   "outputs": [],
   "source": [
    "import pandas as pd\n",
    "import googletrans\n",
    "from googletrans import Translator\n",
    "from googletrans import LANGUAGES"
   ]
  },
  {
   "cell_type": "code",
   "execution_count": null,
   "id": "80ca5a6c",
   "metadata": {},
   "outputs": [],
   "source": [
    "translator = Translator()"
   ]
  },
  {
   "cell_type": "code",
   "execution_count": null,
   "id": "cef55bca",
   "metadata": {},
   "outputs": [],
   "source": [
    "# Turkceye cevirmek istediginiz dosya adini buraya yazin\n",
    "df_en = pd.read_csv(\"ornek.csv\", sep=',', encoding='utf-8') \n",
    "df_en.columns = df_en.columns.str.replace('_',' ')\n",
    "df_en = df_en.replace('_',' ', regex=True)\n",
    "df_en.head()"
   ]
  },
  {
   "cell_type": "code",
   "execution_count": null,
   "id": "a30bdd6a",
   "metadata": {},
   "outputs": [],
   "source": [
    "df_tr = df_en.copy()\n",
    "df_tr.rename(columns=lambda x: translator.translate(x, dest='tr').text, inplace=True)\n",
    "df_tr.columns\n",
    "df_tr.head() "
   ]
  },
  {
   "cell_type": "code",
   "execution_count": null,
   "id": "b3493caa",
   "metadata": {},
   "outputs": [],
   "source": [
    "translations = {}\n",
    "for column in df_tr.columns:\n",
    "    unique_elements = df_tr[column].unique()\n",
    "    for element in unique_elements:\n",
    "        translations[element] = translator.translate(element, dest='tr').text\n",
    "print(translations)"
   ]
  },
  {
   "cell_type": "code",
   "execution_count": null,
   "id": "b6a30839",
   "metadata": {},
   "outputs": [],
   "source": [
    "df_tr.replace(translations, inplace = True)"
   ]
  },
  {
   "cell_type": "code",
   "execution_count": null,
   "id": "6371da3b",
   "metadata": {},
   "outputs": [],
   "source": [
    "df_tr.head()"
   ]
  },
  {
   "cell_type": "code",
   "execution_count": null,
   "id": "7147a27b",
   "metadata": {},
   "outputs": [],
   "source": [
    "# Hangi isimle kaydetmek istediginizi yazin\n",
    "df_tr.to_csv('Turkce.csv', index=False, encoding='utf-8')"
   ]
  }
 ],
 "metadata": {
  "kernelspec": {
   "display_name": "Python 3 (ipykernel)",
   "language": "python",
   "name": "python3"
  },
  "language_info": {
   "codemirror_mode": {
    "name": "ipython",
    "version": 3
   },
   "file_extension": ".py",
   "mimetype": "text/x-python",
   "name": "python",
   "nbconvert_exporter": "python",
   "pygments_lexer": "ipython3",
   "version": "3.9.12"
  }
 },
 "nbformat": 4,
 "nbformat_minor": 5
}
